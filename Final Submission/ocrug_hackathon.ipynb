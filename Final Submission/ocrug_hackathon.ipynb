{
 "cells": [
  {
   "cell_type": "markdown",
   "metadata": {},
   "source": [
    "# Final Data Analysis Report: Data Visualization and Predictive Modeling for Bank Term Deposit Subscription\n",
    "#### Submission for MAC x OCRUG Data Science Hackathon Event"
   ]
  },
  {
   "cell_type": "markdown",
   "metadata": {},
   "source": [
    "#### Team Math Geeks + Ryan"
   ]
  },
  {
   "cell_type": "markdown",
   "metadata": {},
   "source": [
    "Team Members: Ryan Luu, Kent Jitpatima, Sunny Zhou, Vu Tran, and Alex Oineza"
   ]
  },
  {
   "cell_type": "markdown",
   "metadata": {},
   "source": [
    "# Abstract"
   ]
  },
  {
   "cell_type": "markdown",
   "metadata": {},
   "source": [
    "This notebook summarizes our data visualization, predictive modeling, and analysis of our submission to the OCRUG Data Science Hackathon competition helf at the UCI Paul Merage School of Bussiness. The purpose of this report is to document our team's assumptions, thought process, and data modeling throughout the weekend."
   ]
  },
  {
   "cell_type": "markdown",
   "metadata": {},
   "source": [
    "# Background"
   ]
  },
  {
   "cell_type": "markdown",
   "metadata": {},
   "source": [
    "The original dataset, consisting of 45,211 observations and order by date from May 2008 to November 2010, was collected by a Portugese bank. The observations includes the client's age, balance, occupation, along with other features, and whether they subscribed to a bank term deposit. A term deposit is a fixed-term investment that includes the deposit of a money into an account at a financial institution. Term deposit investments usually carry short-term maturities randing from one month to a few years and will have varying levels of required minimum deposits.<sup>1</sup>\n",
    "\n",
    "More information regarding the dataset can be found at the \n",
    "<a href=\"http://archive.ics.uci.edu/ml/datasets/Bank+Marketing#\">UCI Machine Learning Repository</a>."
   ]
  },
  {
   "cell_type": "markdown",
   "metadata": {},
   "source": [
    "# Set-Up"
   ]
  },
  {
   "cell_type": "code",
   "execution_count": 1,
   "metadata": {},
   "outputs": [],
   "source": [
    "data <- read.csv(\"bank-full.csv\", TRUE, ';')\n",
    "options(warn=-1)"
   ]
  },
  {
   "cell_type": "code",
   "execution_count": 2,
   "metadata": {},
   "outputs": [
    {
     "name": "stderr",
     "output_type": "stream",
     "text": [
      "Installing package into 'C:/Users/Ryan Luu/Documents/R/win-library/3.6'\n",
      "(as 'lib' is unspecified)\n"
     ]
    },
    {
     "name": "stdout",
     "output_type": "stream",
     "text": [
      "package 'gridExtra' successfully unpacked and MD5 sums checked\n",
      "\n",
      "The downloaded binary packages are in\n",
      "\tC:\\Users\\Ryan Luu\\AppData\\Local\\Temp\\RtmpqaHOMO\\downloaded_packages\n"
     ]
    },
    {
     "name": "stderr",
     "output_type": "stream",
     "text": [
      "randomForest 4.6-14\n",
      "Type rfNews() to see new features/changes/bug fixes.\n",
      "Loading required package: lattice\n",
      "Loading required package: ggplot2\n",
      "\n",
      "Attaching package: 'ggplot2'\n",
      "\n",
      "The following object is masked from 'package:randomForest':\n",
      "\n",
      "    margin\n",
      "\n",
      "\n",
      "Attaching package: 'lubridate'\n",
      "\n",
      "The following object is masked from 'package:base':\n",
      "\n",
      "    date\n",
      "\n",
      "\n",
      "Attaching package: 'gridExtra'\n",
      "\n",
      "The following object is masked from 'package:randomForest':\n",
      "\n",
      "    combine\n",
      "\n",
      "Loading required package: grid\n",
      "Registered S3 method overwritten by 'xts':\n",
      "  method     from\n",
      "  as.zoo.xts zoo \n",
      "Registered S3 method overwritten by 'quantmod':\n",
      "  method            from\n",
      "  as.zoo.data.frame zoo \n"
     ]
    }
   ],
   "source": [
    "install.packages(\"gridExtra\")\n",
    "#Packages\n",
    "library(randomForest)\n",
    "library(caret)\n",
    "library(ggplot2)\n",
    "library(lubridate)\n",
    "library(scales)\n",
    "library(gridExtra)\n",
    "library(DMwR)"
   ]
  },
  {
   "cell_type": "markdown",
   "metadata": {},
   "source": [
    "# Overview of the Data"
   ]
  },
  {
   "cell_type": "markdown",
   "metadata": {},
   "source": [
    "Before performing our data analysis, we would like to observe the data's structure.\n",
    "\n"
   ]
  },
  {
   "cell_type": "code",
   "execution_count": 3,
   "metadata": {},
   "outputs": [
    {
     "data": {
      "text/html": [
       "<table>\n",
       "<thead><tr><th scope=col>age</th><th scope=col>job</th><th scope=col>marital</th><th scope=col>education</th><th scope=col>default</th><th scope=col>balance</th><th scope=col>housing</th><th scope=col>loan</th><th scope=col>contact</th><th scope=col>day</th><th scope=col>month</th><th scope=col>duration</th><th scope=col>campaign</th><th scope=col>pdays</th><th scope=col>previous</th><th scope=col>poutcome</th><th scope=col>y</th></tr></thead>\n",
       "<tbody>\n",
       "\t<tr><td>58          </td><td>management  </td><td>married     </td><td>tertiary    </td><td>no          </td><td>2143        </td><td>yes         </td><td>no          </td><td>unknown     </td><td>5           </td><td>may         </td><td>261         </td><td>1           </td><td>-1          </td><td>0           </td><td>unknown     </td><td>no          </td></tr>\n",
       "\t<tr><td>44          </td><td>technician  </td><td>single      </td><td>secondary   </td><td>no          </td><td>  29        </td><td>yes         </td><td>no          </td><td>unknown     </td><td>5           </td><td>may         </td><td>151         </td><td>1           </td><td>-1          </td><td>0           </td><td>unknown     </td><td>no          </td></tr>\n",
       "\t<tr><td>33          </td><td>entrepreneur</td><td>married     </td><td>secondary   </td><td>no          </td><td>   2        </td><td>yes         </td><td>yes         </td><td>unknown     </td><td>5           </td><td>may         </td><td> 76         </td><td>1           </td><td>-1          </td><td>0           </td><td>unknown     </td><td>no          </td></tr>\n",
       "\t<tr><td>47          </td><td>blue-collar </td><td>married     </td><td>unknown     </td><td>no          </td><td>1506        </td><td>yes         </td><td>no          </td><td>unknown     </td><td>5           </td><td>may         </td><td> 92         </td><td>1           </td><td>-1          </td><td>0           </td><td>unknown     </td><td>no          </td></tr>\n",
       "\t<tr><td>33          </td><td>unknown     </td><td>single      </td><td>unknown     </td><td>no          </td><td>   1        </td><td>no          </td><td>no          </td><td>unknown     </td><td>5           </td><td>may         </td><td>198         </td><td>1           </td><td>-1          </td><td>0           </td><td>unknown     </td><td>no          </td></tr>\n",
       "\t<tr><td>35          </td><td>management  </td><td>married     </td><td>tertiary    </td><td>no          </td><td> 231        </td><td>yes         </td><td>no          </td><td>unknown     </td><td>5           </td><td>may         </td><td>139         </td><td>1           </td><td>-1          </td><td>0           </td><td>unknown     </td><td>no          </td></tr>\n",
       "</tbody>\n",
       "</table>\n"
      ],
      "text/latex": [
       "\\begin{tabular}{r|lllllllllllllllll}\n",
       " age & job & marital & education & default & balance & housing & loan & contact & day & month & duration & campaign & pdays & previous & poutcome & y\\\\\n",
       "\\hline\n",
       "\t 58           & management   & married      & tertiary     & no           & 2143         & yes          & no           & unknown      & 5            & may          & 261          & 1            & -1           & 0            & unknown      & no          \\\\\n",
       "\t 44           & technician   & single       & secondary    & no           &   29         & yes          & no           & unknown      & 5            & may          & 151          & 1            & -1           & 0            & unknown      & no          \\\\\n",
       "\t 33           & entrepreneur & married      & secondary    & no           &    2         & yes          & yes          & unknown      & 5            & may          &  76          & 1            & -1           & 0            & unknown      & no          \\\\\n",
       "\t 47           & blue-collar  & married      & unknown      & no           & 1506         & yes          & no           & unknown      & 5            & may          &  92          & 1            & -1           & 0            & unknown      & no          \\\\\n",
       "\t 33           & unknown      & single       & unknown      & no           &    1         & no           & no           & unknown      & 5            & may          & 198          & 1            & -1           & 0            & unknown      & no          \\\\\n",
       "\t 35           & management   & married      & tertiary     & no           &  231         & yes          & no           & unknown      & 5            & may          & 139          & 1            & -1           & 0            & unknown      & no          \\\\\n",
       "\\end{tabular}\n"
      ],
      "text/markdown": [
       "\n",
       "| age | job | marital | education | default | balance | housing | loan | contact | day | month | duration | campaign | pdays | previous | poutcome | y |\n",
       "|---|---|---|---|---|---|---|---|---|---|---|---|---|---|---|---|---|\n",
       "| 58           | management   | married      | tertiary     | no           | 2143         | yes          | no           | unknown      | 5            | may          | 261          | 1            | -1           | 0            | unknown      | no           |\n",
       "| 44           | technician   | single       | secondary    | no           |   29         | yes          | no           | unknown      | 5            | may          | 151          | 1            | -1           | 0            | unknown      | no           |\n",
       "| 33           | entrepreneur | married      | secondary    | no           |    2         | yes          | yes          | unknown      | 5            | may          |  76          | 1            | -1           | 0            | unknown      | no           |\n",
       "| 47           | blue-collar  | married      | unknown      | no           | 1506         | yes          | no           | unknown      | 5            | may          |  92          | 1            | -1           | 0            | unknown      | no           |\n",
       "| 33           | unknown      | single       | unknown      | no           |    1         | no           | no           | unknown      | 5            | may          | 198          | 1            | -1           | 0            | unknown      | no           |\n",
       "| 35           | management   | married      | tertiary     | no           |  231         | yes          | no           | unknown      | 5            | may          | 139          | 1            | -1           | 0            | unknown      | no           |\n",
       "\n"
      ],
      "text/plain": [
       "  age job          marital education default balance housing loan contact day\n",
       "1 58  management   married tertiary  no      2143    yes     no   unknown 5  \n",
       "2 44  technician   single  secondary no        29    yes     no   unknown 5  \n",
       "3 33  entrepreneur married secondary no         2    yes     yes  unknown 5  \n",
       "4 47  blue-collar  married unknown   no      1506    yes     no   unknown 5  \n",
       "5 33  unknown      single  unknown   no         1    no      no   unknown 5  \n",
       "6 35  management   married tertiary  no       231    yes     no   unknown 5  \n",
       "  month duration campaign pdays previous poutcome y \n",
       "1 may   261      1        -1    0        unknown  no\n",
       "2 may   151      1        -1    0        unknown  no\n",
       "3 may    76      1        -1    0        unknown  no\n",
       "4 may    92      1        -1    0        unknown  no\n",
       "5 may   198      1        -1    0        unknown  no\n",
       "6 may   139      1        -1    0        unknown  no"
      ]
     },
     "metadata": {},
     "output_type": "display_data"
    }
   ],
   "source": [
    "head(data)"
   ]
  },
  {
   "cell_type": "code",
   "execution_count": 4,
   "metadata": {},
   "outputs": [
    {
     "name": "stdout",
     "output_type": "stream",
     "text": [
      "'data.frame':\t45211 obs. of  17 variables:\n",
      " $ age      : int  58 44 33 47 33 35 28 42 58 43 ...\n",
      " $ job      : Factor w/ 12 levels \"admin.\",\"blue-collar\",..: 5 10 3 2 12 5 5 3 6 10 ...\n",
      " $ marital  : Factor w/ 3 levels \"divorced\",\"married\",..: 2 3 2 2 3 2 3 1 2 3 ...\n",
      " $ education: Factor w/ 4 levels \"primary\",\"secondary\",..: 3 2 2 4 4 3 3 3 1 2 ...\n",
      " $ default  : Factor w/ 2 levels \"no\",\"yes\": 1 1 1 1 1 1 1 2 1 1 ...\n",
      " $ balance  : int  2143 29 2 1506 1 231 447 2 121 593 ...\n",
      " $ housing  : Factor w/ 2 levels \"no\",\"yes\": 2 2 2 2 1 2 2 2 2 2 ...\n",
      " $ loan     : Factor w/ 2 levels \"no\",\"yes\": 1 1 2 1 1 1 2 1 1 1 ...\n",
      " $ contact  : Factor w/ 3 levels \"cellular\",\"telephone\",..: 3 3 3 3 3 3 3 3 3 3 ...\n",
      " $ day      : int  5 5 5 5 5 5 5 5 5 5 ...\n",
      " $ month    : Factor w/ 12 levels \"apr\",\"aug\",\"dec\",..: 9 9 9 9 9 9 9 9 9 9 ...\n",
      " $ duration : int  261 151 76 92 198 139 217 380 50 55 ...\n",
      " $ campaign : int  1 1 1 1 1 1 1 1 1 1 ...\n",
      " $ pdays    : int  -1 -1 -1 -1 -1 -1 -1 -1 -1 -1 ...\n",
      " $ previous : int  0 0 0 0 0 0 0 0 0 0 ...\n",
      " $ poutcome : Factor w/ 4 levels \"failure\",\"other\",..: 4 4 4 4 4 4 4 4 4 4 ...\n",
      " $ y        : Factor w/ 2 levels \"no\",\"yes\": 1 1 1 1 1 1 1 1 1 1 ...\n"
     ]
    }
   ],
   "source": [
    "str(data)"
   ]
  },
  {
   "cell_type": "code",
   "execution_count": 5,
   "metadata": {},
   "outputs": [
    {
     "data": {
      "image/png": "[encoded data removed]",
      "text/plain": [
       "plot without title"
      ]
     },
     "metadata": {},
     "output_type": "display_data"
    }
   ],
   "source": [
    "#Color Code\n",
    "colory <- \"#56a8e8\"\n",
    "colorn <- \"grey75\"\n",
    "\n",
    "ggplot(data, aes(y, fill = y)) + geom_bar() +\n",
    "  theme_minimal()+\n",
    "  scale_fill_manual(values = c(colorn,colory)) +\n",
    "  guides(fill = guide_legend(reverse = TRUE)) +\n",
    "  geom_text(stat = 'count',aes(label =..count.., vjust = -0.2)) +\n",
    "  theme(panel.background=element_blank(),panel.border=element_blank(),panel.grid.major=element_blank(),\n",
    "          panel.grid.minor=element_blank(),plot.background=element_blank()) +\n",
    "  labs(title = \"Subcription to a Term Deposit\",\n",
    "       x = \"Response\",\n",
    "       y = \"Frequency\",\n",
    "       fill = \"Did the client subscribe a term deposit?\")"
   ]
  },
  {
   "cell_type": "markdown",
   "metadata": {},
   "source": [
    "# Business Problem"
   ]
  },
  {
   "cell_type": "markdown",
   "metadata": {},
   "source": [
    "Based on the structure and graph, we immediately knew there is an imbalance of those who agree whether or not to subscribe to a term deposit. Our assumptions is that the bank is calling clients at random and hoping they subscribe to a term deposit. If we were to develop a predictive model, we need to ensure that there is enough observations who responded \"yes\" in both the train and test dataframe.\n",
    "\n",
    "Business Problem: Employees contact many clients but only a rough percentage of them subsribe to a bank term deposit. Our goal is to determine which demographic of customers the bank should be focusing on to maximize subscriptions. For example, are younger people more likely to subscribe to a bank term? What professions are more likely to subscribe? By knowing which audience is their target audience, the bank can properly allocate its resources and call those who are likely to subscribe.We will also create a classification model to predict which clients are likely to subscribe. By doing so, we can graph a variable importance plot to determine the highest influencing features and utilize a partial dependence plot onto those features to plot a graphical depiction of the marginal effect of a variable on the class probability."
   ]
  },
  {
   "cell_type": "markdown",
   "metadata": {},
   "source": [
    "# Hypothesis"
   ]
  },
  {
   "cell_type": "markdown",
   "metadata": {},
   "source": [
    "We predict that younger and older people are more likely to agree to a bank deposit term. In addition to this we will perform an variable analysis to further understand the data. We will examine that data and try to draw conclusions on which demographic of people we should focus our resources on."
   ]
  },
  {
   "cell_type": "markdown",
   "metadata": {},
   "source": [
    "# Data Partitioning"
   ]
  },
  {
   "cell_type": "code",
   "execution_count": 6,
   "metadata": {},
   "outputs": [],
   "source": [
    "#Create two new dataframe, data_yes has all of the obs with y=yes, data_no has all of the obs with y=no\n",
    "data_yes <- data[ which(data$y=='yes'),]\n",
    "data_no <- data[ which(data$y=='no'),]\n",
    "\n",
    "set.seed(1234)\n",
    "ind <- sample(2,nrow(data_no), replace = TRUE, prob = c(0.7,0.3))\n",
    "train <- data_no[ind==1,]\n",
    "test <- data_no[ind==2,]\n",
    "\n",
    "ind <- sample(2,nrow(data_yes), replace = TRUE, prob = c(0.7,0.3))\n",
    "train1 <- data_yes[ind==1,]\n",
    "test1 <- data_yes[ind==2,]\n",
    "\n",
    "train <- rbind(train, train1)\n",
    "test <- rbind(test, test1)"
   ]
  },
  {
   "cell_type": "code",
   "execution_count": 7,
   "metadata": {},
   "outputs": [],
   "source": [
    "rf <- randomForest(y~., data=train)"
   ]
  },
  {
   "cell_type": "code",
   "execution_count": 8,
   "metadata": {
    "scrolled": true
   },
   "outputs": [
    {
     "name": "stdout",
     "output_type": "stream",
     "text": [
      "\n",
      "Call:\n",
      " randomForest(formula = y ~ ., data = train) \n",
      "               Type of random forest: classification\n",
      "                     Number of trees: 500\n",
      "No. of variables tried at each split: 4\n",
      "\n",
      "        OOB estimate of  error rate: 9.19%\n",
      "Confusion matrix:\n",
      "       no  yes class.error\n",
      "no  26996  986  0.03523694\n",
      "yes  1922 1739  0.52499317\n"
     ]
    }
   ],
   "source": [
    "print(rf)"
   ]
  },
  {
   "cell_type": "code",
   "execution_count": 9,
   "metadata": {},
   "outputs": [
    {
     "data": {
      "text/plain": [
       "Confusion Matrix and Statistics\n",
       "\n",
       "          Reference\n",
       "Prediction    no   yes\n",
       "       no  27982     1\n",
       "       yes     0  3660\n",
       "                                     \n",
       "               Accuracy : 1          \n",
       "                 95% CI : (0.9998, 1)\n",
       "    No Information Rate : 0.8843     \n",
       "    P-Value [Acc > NIR] : <2e-16     \n",
       "                                     \n",
       "                  Kappa : 0.9998     \n",
       "                                     \n",
       " Mcnemar's Test P-Value : 1          \n",
       "                                     \n",
       "            Sensitivity : 1.0000     \n",
       "            Specificity : 0.9997     \n",
       "         Pos Pred Value : 1.0000     \n",
       "         Neg Pred Value : 1.0000     \n",
       "             Prevalence : 0.8843     \n",
       "         Detection Rate : 0.8843     \n",
       "   Detection Prevalence : 0.8843     \n",
       "      Balanced Accuracy : 0.9999     \n",
       "                                     \n",
       "       'Positive' Class : no         \n",
       "                                     "
      ]
     },
     "metadata": {},
     "output_type": "display_data"
    },
    {
     "data": {
      "text/plain": [
       "Confusion Matrix and Statistics\n",
       "\n",
       "          Reference\n",
       "Prediction    no   yes\n",
       "       no  11515   838\n",
       "       yes   425   790\n",
       "                                          \n",
       "               Accuracy : 0.9069          \n",
       "                 95% CI : (0.9019, 0.9118)\n",
       "    No Information Rate : 0.88            \n",
       "    P-Value [Acc > NIR] : < 2.2e-16       \n",
       "                                          \n",
       "                  Kappa : 0.505           \n",
       "                                          \n",
       " Mcnemar's Test P-Value : < 2.2e-16       \n",
       "                                          \n",
       "            Sensitivity : 0.9644          \n",
       "            Specificity : 0.4853          \n",
       "         Pos Pred Value : 0.9322          \n",
       "         Neg Pred Value : 0.6502          \n",
       "             Prevalence : 0.8800          \n",
       "         Detection Rate : 0.8487          \n",
       "   Detection Prevalence : 0.9105          \n",
       "      Balanced Accuracy : 0.7248          \n",
       "                                          \n",
       "       'Positive' Class : no              \n",
       "                                          "
      ]
     },
     "metadata": {},
     "output_type": "display_data"
    }
   ],
   "source": [
    "library(caret)\n",
    "p1 <- predict(rf, train)\n",
    "confusionMatrix(p1, train$y)\n",
    "\n",
    "#Prediction & Confusion MAtrix - test data\n",
    "p2 <- predict(rf, test)\n",
    "confusionMatrix(p2, test$y)\n"
   ]
  },
  {
   "cell_type": "markdown",
   "metadata": {},
   "source": [
    "Something is obviously wrong. Although this model sports more than 90% accuracy, accuracy of the model is sometimes not the best indicator in measuring the performance. The model performs extremely well in predicting whether a client will reject a bank term deposit. However, it is wrong more than half the time when trying to predict whether a client actually does subsribe to a bank term. Specifically, despite its desireable true negative rate, the model sports a poor false positive rate<br>\n",
    "\n",
    "Because of such imbalance of yes and no, the model can easily keep predicting no for the most part and still be fairly accurate. For example, if the answers of a True or False test is 80% true and I guess True for all of the questions, I will get an 80% on the test. The purpose of the test is to assess how well the testtaker knows the test material. Just because I got 80% on the test is not an actual representation of how well I know the test material. We will need to figure out an approach to offset the imbalance. "
   ]
  },
  {
   "cell_type": "code",
   "execution_count": 10,
   "metadata": {},
   "outputs": [
    {
     "data": {
      "image/png": "[encoded data removed]",
      "text/plain": [
       "Plot with title \"rf\""
      ]
     },
     "metadata": {},
     "output_type": "display_data"
    }
   ],
   "source": [
    "varImpPlot(rf)"
   ]
  },
  {
   "cell_type": "markdown",
   "metadata": {},
   "source": [
    "Questions to ask: <br>\n",
    "Why is duration the most influential variable in predicting who will subscribe to a bank term deposit? <br>\n",
    "Why is the day of the month even a factor? Interesting. We will need to further investigate.\n",
    "Overall, variables such as balance and age makes sense in predicting. Here is our hypothesis on why those variables are significant: <br>\n",
    "If you have a large balance, you are likely able to afford a term deposit. As for age, here are the assumptions: When you are young, you probably got your first job and want to invest early. However, by the time you are around 30, you are less likely to invest because you have more financial constraints (having children). And Retired people are more likely to invest because they don't spend much perhaps and want to work on their retirement funds. <br><Br> But why duration and day?\n",
    "\n",
    "Questions to ask: <br>\n",
    "Why is duration the most influential variable in predicting who will subscribe to a bank term deposit? <br>\n",
    "Month makes sense as a factor but why is the day of the month considered?  We will need to further investigate."
   ]
  },
  {
   "cell_type": "markdown",
   "metadata": {},
   "source": [
    "# Investigating Duration"
   ]
  },
  {
   "cell_type": "markdown",
   "metadata": {},
   "source": [
    "Duration of the call with the client is measured in seconds. The model is suggesting, the longer the call with the client, the more likely they are to subscribe to a term deposit. However, duration of the call is not something we can predict before making the call. We feel you are more likely to have a longer call if youve already agreed to saying yes, thus duration may actually be a response variable to whether a customer subscribes rather than the other way around."
   ]
  },
  {
   "cell_type": "code",
   "execution_count": 11,
   "metadata": {},
   "outputs": [
    {
     "data": {
      "text/plain": [
       "   Min. 1st Qu.  Median    Mean 3rd Qu.    Max. \n",
       "    8.0   244.0   426.0   537.3   725.0  3881.0 "
      ]
     },
     "metadata": {},
     "output_type": "display_data"
    },
    {
     "data": {
      "text/plain": [
       "   Min. 1st Qu.  Median    Mean 3rd Qu.    Max. \n",
       "    0.0    95.0   164.0   221.2   279.0  4918.0 "
      ]
     },
     "metadata": {},
     "output_type": "display_data"
    }
   ],
   "source": [
    "summary(data_yes$duration)\n",
    "summary(data_no$duration)"
   ]
  },
  {
   "cell_type": "markdown",
   "metadata": {},
   "source": [
    "Here we can see that on average those who agree to a bank term deposit on average already have longer call durations."
   ]
  },
  {
   "cell_type": "code",
   "execution_count": 12,
   "metadata": {},
   "outputs": [
    {
     "data": {
      "image/png": "[encoded data removed]",
      "text/plain": [
       "plot without title"
      ]
     },
     "metadata": {},
     "output_type": "display_data"
    }
   ],
   "source": [
    "ggplot(data, aes(y, duration/60)) + \n",
    "geom_boxplot() + \n",
    "theme_minimal() +\n",
    "theme(axis.line=element_blank(),legend.position=\"bottom\",\n",
    "          panel.background=element_blank(),panel.border=element_blank(),panel.grid.major=element_blank(),\n",
    "          panel.grid.minor=element_blank(),plot.background=element_blank()) +\n",
    "ylim(0, 90) +\n",
    "xlab(NULL) + \n",
    "ylab(\"Call Duration in Minutes\") +\n",
    "labs(fill = \"Subscribe Bank Term Depsoit\")"
   ]
  },
  {
   "cell_type": "markdown",
   "metadata": {},
   "source": [
    "From this plot we can see there was an higher average duration of call within those who agreed to a bank term deposit versus those who did not further implying our earlier prediction. Since variable importance plot has duration as the biggest influnce of our model, using it as a classification will create a unjustified bias.\n",
    "\n",
    "After some discussion, we feel that we should remove the variable duration because it does not make sense on how it can predict whether a client will subscribe to a term deposit. Maybe the longer you talk to the client, they will eventually \"give-in\" and subscribe to a term deposit? Most likely not - the clients would probably just hang up on the caller. Perhaps why the calls are so long for people who subsribed yes is because they were already planning to subsribe and were asking questions regarding the term deposit. Nonetheless, the length of the phone call duration should not be a feature to consider."
   ]
  },
  {
   "cell_type": "markdown",
   "metadata": {},
   "source": [
    "# Investigating Day and Month"
   ]
  },
  {
   "cell_type": "markdown",
   "metadata": {},
   "source": [
    "#### Let's observe the number of observation for each month"
   ]
  },
  {
   "cell_type": "code",
   "execution_count": 13,
   "metadata": {},
   "outputs": [],
   "source": [
    "#Convert Month into month number\n",
    "data$month_num[data$month == 'jan'] = 1 \n",
    "data$month_num[data$month == 'feb'] = 2 \n",
    "data$month_num[data$month == 'mar'] = 3 \n",
    "data$month_num[data$month == 'apr'] = 4 \n",
    "data$month_num[data$month == 'may'] = 5 \n",
    "data$month_num[data$month == 'jun'] = 6 \n",
    "data$month_num[data$month == 'jul'] = 7 \n",
    "data$month_num[data$month == 'aug'] = 8 \n",
    "data$month_num[data$month == 'sep'] = 9 \n",
    "data$month_num[data$month == 'oct'] = 10 \n",
    "data$month_num[data$month == 'nov'] = 11\n",
    "data$month_num[data$month == 'dec'] = 12 \n",
    "\n",
    "#Create a date column by combining month number and day. 2008 is a dummy year since observations did not include the year of the obs.\n",
    "data$date <- paste(data$month_num,data$day, \"2008\")\n",
    "data$date <- mdy(data$date)"
   ]
  },
  {
   "cell_type": "code",
   "execution_count": 14,
   "metadata": {},
   "outputs": [],
   "source": [
    "data2008 <- data[1:27729,]\n",
    "data2009 <- data[27730:42952,]\n",
    "data2010 <- data[42953:45211,]"
   ]
  },
  {
   "cell_type": "code",
   "execution_count": 15,
   "metadata": {},
   "outputs": [],
   "source": [
    "m1 <- ggplot(data2008, aes(date, fill = y)) + \n",
    "  geom_histogram(binwidth = 2,colour = \"white\", size = 0.1,show.legend = FALSE) + \n",
    "  theme_minimal() +\n",
    "  scale_fill_manual(values = c(colorn,colory)) +\n",
    "  scale_x_date(date_labels=\"%b\",date_breaks  =\"1 month\") + \n",
    "  theme(axis.line=element_blank(), \n",
    "          panel.background=element_blank(),panel.border=element_blank(),panel.grid.major=element_blank(),\n",
    "          panel.grid.minor=element_blank(),plot.background=element_blank()) +\n",
    "  xlab(NULL) + \n",
    "  ylab(\"2008 Observations\") + \n",
    "  labs(fill = \"Subscribe Bank Term Depsoit\")\n",
    "\n",
    "m2 <- ggplot(data2009, aes(date, fill = y)) + \n",
    "  geom_histogram(binwidth = 2,colour = \"white\", size = 0.1,show.legend = FALSE) + \n",
    "  theme_minimal() +\n",
    "  scale_fill_manual(values = c(colorn,colory)) +\n",
    "  scale_x_date(date_labels=\"%b\",date_breaks  =\"1 month\") + \n",
    "  theme(axis.line=element_blank(),\n",
    "          panel.background=element_blank(),panel.border=element_blank(),panel.grid.major=element_blank(),\n",
    "          panel.grid.minor=element_blank(),plot.background=element_blank()) +\n",
    "  ylim(0, 1500) +\n",
    "  xlab(NULL) + \n",
    "  ylab(\"2009 Observations\") + \n",
    "  labs(fill = \"Subscribe Bank Term Depsoit\")\n",
    "\n",
    "m3 <- ggplot(data2010, aes(date, fill = y)) + \n",
    "  geom_histogram(binwidth = 2,colour = \"white\", size = 0.1,show.legend = FALSE) + \n",
    "  theme_minimal() +\n",
    "  scale_fill_manual(values = c(colorn,colory)) +\n",
    "  scale_x_date(date_labels=\"%b\",date_breaks  =\"1 month\") + \n",
    "  theme(axis.line=element_blank(), \n",
    "          panel.background=element_blank(),panel.border=element_blank(),panel.grid.major=element_blank(),\n",
    "          panel.grid.minor=element_blank(),plot.background=element_blank()) +\n",
    "  ylim(0, 1000) +\n",
    "  xlab(NULL) + \n",
    "  ylab(\"2010 Observations\") + \n",
    "  labs(fill = \"Subscribe Bank Term Depsoit\")\n"
   ]
  },
  {
   "cell_type": "code",
   "execution_count": 16,
   "metadata": {},
   "outputs": [
    {
     "data": {
      "image/png": "[encoded data removed]",
      "text/plain": [
       "plot without title"
      ]
     },
     "metadata": {},
     "output_type": "display_data"
    },
    {
     "data": {
      "image/png": "[encoded data removed]",
      "text/plain": [
       "plot without title"
      ]
     },
     "metadata": {},
     "output_type": "display_data"
    }
   ],
   "source": [
    "ggplot(data, aes(date, fill = y)) + \n",
    "  geom_histogram(binwidth = 2,colour = \"white\", size = 0.1) + \n",
    "  theme_minimal() +\n",
    "  scale_fill_manual(values = c(colorn,colory)) +\n",
    "  guides(fill = guide_legend(reverse = TRUE)) +\n",
    "  scale_x_date(date_labels=\"%b\",date_breaks  =\"1 month\") + \n",
    "  theme(axis.line=element_blank(), legend.position=\"top\",\n",
    "          panel.background=element_blank(),panel.border=element_blank(),panel.grid.major=element_blank(),\n",
    "          panel.grid.minor=element_blank(),plot.background=element_blank()) +\n",
    "  xlab(NULL) + \n",
    "  ylab(\"Total Observations\") + \n",
    "  labs(fill = \"Subscribe Bank Term Depsoit\")\n",
    "\n",
    "grid.arrange(m1, m2, m3, nrow = 3)"
   ]
  },
  {
   "cell_type": "markdown",
   "metadata": {},
   "source": [
    "Based on this graph, it appears that there are spikes in number of observations recorded. We are not sure why but my team has decided to make the assumption that perhaps the calls in the marketing campaigns were scheduled that way. For example, the callers were tasked to operate on specific months and days when carrying out the campaign. However, because of this, it skews the results. As a result, we feel that we should remove the variables month and days if we want to build a model in predicting term deposits."
   ]
  },
  {
   "cell_type": "markdown",
   "metadata": {},
   "source": [
    "# Investigating how age affects subscription"
   ]
  },
  {
   "cell_type": "markdown",
   "metadata": {},
   "source": [
    "Here we predict that age will have huge impact on your probability of agreesing to a term deposit. Our reasoning behind this is that depening on your age you will be in a different stage in life. When you are young you may have a low amount of disposable income and lack of knowledge of financial investments, thus you may be less likely to subscribe to a bank deposit. When you are middle age and starting a family you may also be less liekly to subscribe to a bank deposit term due to family reasons. In contrast when you are above 60 you are reaching an age where thinking about retirement becomes the norm, thus you may be more likely to agree to a term desposit above this age."
   ]
  },
  {
   "cell_type": "code",
   "execution_count": 17,
   "metadata": {},
   "outputs": [
    {
     "data": {
      "image/png": "[encoded data removed]",
      "text/plain": [
       "plot without title"
      ]
     },
     "metadata": {},
     "output_type": "display_data"
    }
   ],
   "source": [
    "library(ggplot2)\n",
    "ggplot(data, aes(age, fill = y)) + geom_bar() +\n",
    "  theme_minimal() + scale_fill_manual(values = c(colorn,colory)) +\n",
    "  labs(title = NULL, \n",
    "  x = \"Age\",\n",
    "  y = \"Number of Persons Called\",\n",
    "  fill = \"Subscribed?\") +\n",
    "  guides(fill = guide_legend(reverse = TRUE))"
   ]
  },
  {
   "cell_type": "code",
   "execution_count": 18,
   "metadata": {},
   "outputs": [
    {
     "data": {
      "image/png": "[encoded data removed]",
      "text/plain": [
       "plot without title"
      ]
     },
     "metadata": {},
     "output_type": "display_data"
    }
   ],
   "source": [
    "ggplot(data, aes(age, fill = y)) + geom_bar(position = \"fill\") +\n",
    "  theme_minimal() + scale_fill_manual(values = c(colorn,colory)) +\n",
    "  labs(title = NULL, \n",
    "  x = \"Age\",\n",
    "  y = \"Number of Persons Called\",\n",
    "  fill = \"Subscribed?\") +\n",
    "  xlim(18,95) +\n",
    "  guides(fill = guide_legend(reverse = TRUE))"
   ]
  },
  {
   "cell_type": "markdown",
   "metadata": {},
   "source": [
    "As we can see the percentages of yes responses greatly inceased after age 60. In addition to this the younger group of those who were age 30 or less is higher than those who were middle age. Below we produced plots observing frequency between three groups.\n",
    "\n",
    "<b>Group 1: Ages 18 - 29 </br> <br>\n",
    "Group 2: Ages 30 - 59 <br>\n",
    "Group 3: Ages 60+ <br>"
   ]
  },
  {
   "cell_type": "code",
   "execution_count": 19,
   "metadata": {},
   "outputs": [],
   "source": [
    "data_age1 <- data[which(data$age>=18 & data$age <30),]\n",
    "data_age2 <- data[which(data$age>=30 & data$age <60),]\n",
    "data_age3 <- data[which(data$age>60),]"
   ]
  },
  {
   "cell_type": "code",
   "execution_count": 20,
   "metadata": {},
   "outputs": [],
   "source": [
    "p1 <- ggplot(data_age1, aes(y, fill = y)) + \n",
    "  geom_bar(show.legend = FALSE) +\n",
    "  theme_minimal()+\n",
    "  scale_fill_manual(values = c(colorn,colory)) +\n",
    "  guides(fill = guide_legend(reverse = TRUE)) +\n",
    "  theme(axis.line=element_blank(),  \n",
    "          axis.title.y=element_blank(),\n",
    "          panel.background=element_blank(),panel.border=element_blank(),panel.grid.major=element_blank(),\n",
    "          panel.grid.minor=element_blank(),plot.background=element_blank()) +\n",
    "  labs(title = \"Age Group 18-29\",\n",
    "       x = NULL,\n",
    "       y = \"Frequency\",\n",
    "       fill = \"Did the client subscribe a term deposit?\")\n",
    "\n",
    "p2 <- ggplot(data_age2, aes(y, fill = y)) + \n",
    "  geom_bar(show.legend = FALSE) +\n",
    "  theme_minimal()+\n",
    "  scale_fill_manual(values = c(colorn,colory)) +\n",
    "  guides(fill = guide_legend(reverse = TRUE)) +\n",
    "  theme(axis.line=element_blank(),\n",
    "          axis.title.y=element_blank(),\n",
    "          panel.background=element_blank(),panel.border=element_blank(),panel.grid.major=element_blank(),\n",
    "          panel.grid.minor=element_blank(),plot.background=element_blank()) +\n",
    "  labs(title = \"Age Group 30-59\",\n",
    "       x = NULL,\n",
    "       y = NULL,\n",
    "       fill = \"Did the client subscribe a term deposit?\")\n",
    "\n",
    "p3 <- ggplot(data_age3, aes(y, fill = y)) + \n",
    "  geom_bar(show.legend = FALSE) +\n",
    "  theme_minimal()+\n",
    "  scale_fill_manual(values = c(colorn,colory)) +\n",
    "  guides(fill = guide_legend(reverse = TRUE)) +\n",
    "  theme(axis.line=element_blank(),\n",
    "          panel.background=element_blank(),panel.border=element_blank(),panel.grid.major=element_blank(),\n",
    "          panel.grid.minor=element_blank(),plot.background=element_blank()) +\n",
    "  labs(title = \"Age Group 60+\",\n",
    "       x = NULL,\n",
    "       y = NULL,\n",
    "       fill = \"Did the client subscribe a term deposit?\")"
   ]
  },
  {
   "cell_type": "markdown",
   "metadata": {},
   "source": [
    "# Frequency of Term Deposit Subscription by Age Group"
   ]
  },
  {
   "cell_type": "code",
   "execution_count": 21,
   "metadata": {},
   "outputs": [
    {
     "data": {
      "image/png": "[encoded data removed]",
      "text/plain": [
       "plot without title"
      ]
     },
     "metadata": {},
     "output_type": "display_data"
    }
   ],
   "source": [
    "grid.arrange(p1, p2, p3, nrow = 3)"
   ]
  },
  {
   "cell_type": "markdown",
   "metadata": {},
   "source": [
    "# Reattempt at randomForest with synthetic data"
   ]
  },
  {
   "cell_type": "markdown",
   "metadata": {},
   "source": [
    "Removing duration, month, and day from the date column since we believe it serves no purpose in the predictive model. Earlier, we tried to solve the imbalance of yes and no by trying to distribute the 'yes' into both the train and test. Our new attempt is to create synthetic data to offset the imbalance."
   ]
  },
  {
   "cell_type": "code",
   "execution_count": 22,
   "metadata": {},
   "outputs": [
    {
     "data": {
      "text/plain": [
       "\n",
       "   no   yes \n",
       "39922  5289 "
      ]
     },
     "metadata": {},
     "output_type": "display_data"
    }
   ],
   "source": [
    "data_c <- subset(data, select =-c(duration, month, day, date, month_num))\n",
    "table(data_c$y)"
   ]
  },
  {
   "cell_type": "code",
   "execution_count": 23,
   "metadata": {},
   "outputs": [
    {
     "data": {
      "text/plain": [
       "\n",
       "   no   yes \n",
       "31734 37023 "
      ]
     },
     "metadata": {},
     "output_type": "display_data"
    }
   ],
   "source": [
    "newData_c <- SMOTE(y ~ ., data_c, perc.over = 600,perc.under=100)\n",
    "table(newData_c$y)"
   ]
  },
  {
   "cell_type": "code",
   "execution_count": 24,
   "metadata": {},
   "outputs": [],
   "source": [
    "set.seed(1234)\n",
    "ind <- sample(2,nrow(newData_c), replace = TRUE, prob = c(0.7,0.3))\n",
    "train <- newData_c[ind==1,]\n",
    "test <- newData_c[ind==2,]"
   ]
  },
  {
   "cell_type": "code",
   "execution_count": 25,
   "metadata": {},
   "outputs": [
    {
     "name": "stdout",
     "output_type": "stream",
     "text": [
      "\n",
      "Call:\n",
      " randomForest(formula = y ~ ., data = train) \n",
      "               Type of random forest: classification\n",
      "                     Number of trees: 500\n",
      "No. of variables tried at each split: 3\n",
      "\n",
      "        OOB estimate of  error rate: 12.67%\n",
      "Confusion matrix:\n",
      "       no   yes class.error\n",
      "no  21315   893  0.04021073\n",
      "yes  5193 20642  0.20100639\n"
     ]
    }
   ],
   "source": [
    "rf <- randomForest(y~., data=train)\n",
    "print(rf)"
   ]
  },
  {
   "cell_type": "code",
   "execution_count": 26,
   "metadata": {},
   "outputs": [
    {
     "data": {
      "text/plain": [
       "Confusion Matrix and Statistics\n",
       "\n",
       "          Reference\n",
       "Prediction    no   yes\n",
       "       no  22152  3919\n",
       "       yes    56 21916\n",
       "                                          \n",
       "               Accuracy : 0.9173          \n",
       "                 95% CI : (0.9148, 0.9197)\n",
       "    No Information Rate : 0.5377          \n",
       "    P-Value [Acc > NIR] : < 2.2e-16       \n",
       "                                          \n",
       "                  Kappa : 0.8356          \n",
       "                                          \n",
       " Mcnemar's Test P-Value : < 2.2e-16       \n",
       "                                          \n",
       "            Sensitivity : 0.9975          \n",
       "            Specificity : 0.8483          \n",
       "         Pos Pred Value : 0.8497          \n",
       "         Neg Pred Value : 0.9975          \n",
       "             Prevalence : 0.4623          \n",
       "         Detection Rate : 0.4611          \n",
       "   Detection Prevalence : 0.5427          \n",
       "      Balanced Accuracy : 0.9229          \n",
       "                                          \n",
       "       'Positive' Class : no              \n",
       "                                          "
      ]
     },
     "metadata": {},
     "output_type": "display_data"
    }
   ],
   "source": [
    "p1 <- predict(rf, train)\n",
    "confusionMatrix(p1, train$y)"
   ]
  },
  {
   "cell_type": "code",
   "execution_count": 27,
   "metadata": {},
   "outputs": [
    {
     "data": {
      "text/plain": [
       "Confusion Matrix and Statistics\n",
       "\n",
       "          Reference\n",
       "Prediction   no  yes\n",
       "       no  9124 2178\n",
       "       yes  402 9010\n",
       "                                          \n",
       "               Accuracy : 0.8754          \n",
       "                 95% CI : (0.8709, 0.8799)\n",
       "    No Information Rate : 0.5401          \n",
       "    P-Value [Acc > NIR] : < 2.2e-16       \n",
       "                                          \n",
       "                  Kappa : 0.7527          \n",
       "                                          \n",
       " Mcnemar's Test P-Value : < 2.2e-16       \n",
       "                                          \n",
       "            Sensitivity : 0.9578          \n",
       "            Specificity : 0.8053          \n",
       "         Pos Pred Value : 0.8073          \n",
       "         Neg Pred Value : 0.9573          \n",
       "             Prevalence : 0.4599          \n",
       "         Detection Rate : 0.4405          \n",
       "   Detection Prevalence : 0.5456          \n",
       "      Balanced Accuracy : 0.8816          \n",
       "                                          \n",
       "       'Positive' Class : no              \n",
       "                                          "
      ]
     },
     "metadata": {},
     "output_type": "display_data"
    }
   ],
   "source": [
    "p2 <- predict(rf, test)\n",
    "confusionMatrix(p2, test$y)"
   ]
  },
  {
   "cell_type": "markdown",
   "metadata": {},
   "source": [
    "Our new model definitely improved with the new synthetic data. There were enough observations with those who subsribed to properly train the model in predicting a subscription. Our first randomForest model was roughly 91% accuracy. Our second randomForest model has an 87% accuracy. However, despite its lower accuracy, it has a class error of roughly 20% in predicting yes, which is way better than our previous model with over 50% class error."
   ]
  },
  {
   "cell_type": "code",
   "execution_count": 28,
   "metadata": {},
   "outputs": [
    {
     "data": {
      "image/png": "[encoded data removed]",
      "text/plain": [
       "Plot with title \"rf\""
      ]
     },
     "metadata": {},
     "output_type": "display_data"
    }
   ],
   "source": [
    "varImpPlot(rf)"
   ]
  },
  {
   "cell_type": "markdown",
   "metadata": {},
   "source": [
    "The top six biggest influencing variables when predicting which clients are more likely to subscribe to a bank term deposit are the features previous, pdays, campaign, poutcome, balance, and age. "
   ]
  },
  {
   "cell_type": "code",
   "execution_count": 29,
   "metadata": {},
   "outputs": [
    {
     "data": {
      "image/png": "[encoded data removed]",
      "text/plain": [
       "Plot with title \"Partial Dependence on campaign\""
      ]
     },
     "metadata": {},
     "output_type": "display_data"
    }
   ],
   "source": [
    "partialPlot(rf, train, campaign, \"yes\")"
   ]
  },
  {
   "cell_type": "markdown",
   "metadata": {},
   "source": [
    "Based on this partial dependence plot, at around 2-4 contacts, clients are likely to say yes to a subscription. However, after about 8 tries, they really tend ot say no. You got 8 attempts to make it count."
   ]
  },
  {
   "cell_type": "code",
   "execution_count": 30,
   "metadata": {},
   "outputs": [],
   "source": [
    "g1 <- ggplot(data_age1, aes(age, balance)) + \n",
    "geom_point() +\n",
    "ylim(0, 100000)\n",
    "\n",
    "\n",
    "g2 <- ggplot(data_age2, aes(age, balance)) + \n",
    "geom_point() +\n",
    "ylim(0, 100000)\n",
    "\n",
    "\n",
    "g3 <- ggplot(data_age3, aes(age, balance)) + \n",
    "geom_point() +\n",
    "ylim(0, 100000)\n"
   ]
  },
  {
   "cell_type": "code",
   "execution_count": 31,
   "metadata": {},
   "outputs": [
    {
     "data": {
      "image/png": "[encoded data removed]",
      "text/plain": [
       "plot without title"
      ]
     },
     "metadata": {},
     "output_type": "display_data"
    }
   ],
   "source": [
    "grid.arrange(g1, g2, g3, nrow = 3)"
   ]
  },
  {
   "cell_type": "markdown",
   "metadata": {},
   "source": [
    "We were trying to observe the relationship between age groups and balance. However, we ran out of time to come up with a conclusion"
   ]
  },
  {
   "cell_type": "markdown",
   "metadata": {},
   "source": [
    "# Conclusion"
   ]
  },
  {
   "cell_type": "markdown",
   "metadata": {},
   "source": [
    "Our hypothesis that those who belong to age group 1 and 3 are more willing to subscribe to a term deposit is supported by our frequency bar plots that analyzed the amount of 'yes' and 'no's given a certain age group. After reviewing the variable importance plot of our first randomForest model, the team decided to remove duration, month, and day as variables because they did not make sense in the prediction of client subscription. After accounting for these variables, our final random forest model yielded a decrease in overall accuracy. Despite this, it more well rounded because the false positive error decreased significantly. The initial randomForest model sports a 52% false positive rate, and our final model sports a 20% false positive rate, thus improving by 32 percent. In some cases, overall accuracy is not the best indicator of the model's performance. \n",
    "\n",
    "If we wanted to improve the ratio of 'yes' and 'no', we would advice the bank to reach out to those who belong to age group 1 (18-29) and age group 3 (60+). In addition to this, when contacting clients, callers have around 8 attempts to convince the client to subsribe to a bank term deposit. Based on the partial dependence plot of number of calls in a campaign in predicting 'yes' subscription, the probability of a client saying 'no' significantly drops after 8 attempts. With this information, we hope the callers strategically spend their call times onto the target audience, thus efficiently utilizing the time and resources of the company.\n",
    "\n",
    "If time permitted, we would have liked to perform a time series analysis and plot more partial dependence plots on high influencing features."
   ]
  },
  {
   "cell_type": "markdown",
   "metadata": {},
   "source": [
    "# Limitations of our Analysis"
   ]
  },
  {
   "cell_type": "markdown",
   "metadata": {},
   "source": [
    "Because the dataset was collected during the Great Recession, a financial crisis that severely affected nations worldwide, our predictive model may not be relevant. Many people struggled financially, which may have affected their ability in affording a term deposit. Furthermore, many individuals may have lost faith in the financial institutions. Nonetheless, there are many variables in play when reflecting upon Portugal's economy from 2008 - 2010. Specifically,the predictive model we built in determining whether a client will subscribe to a bank term deposit may not be accurate in 2019 because Portugal's 2019 economy heavily differs than that of its 2008-2010 economy. \n",
    "\n",
    "Although synthesizing data for our classification model leads to no information loss, we increased the risk of overfitting the model since it replicates the minority class events - thus the model's accuracy may decrease when introduced to new variables or a new environment. Then again, the data was collected during the Great Repression, so this model is not very accurate to begin with. "
   ]
  },
  {
   "cell_type": "markdown",
   "metadata": {},
   "source": [
    "# Reference"
   ]
  },
  {
   "cell_type": "markdown",
   "metadata": {},
   "source": [
    "1. Chen, J. (2019, August 22). Term Deposit Definition. Retrieved November 13, 2019, from https://www.investopedia.com/terms/t/termdeposit.asp."
   ]
  }
 ],
 "metadata": {
  "kernelspec": {
   "display_name": "R",
   "language": "R",
   "name": "ir"
  },
  "language_info": {
   "codemirror_mode": "r",
   "file_extension": ".r",
   "mimetype": "text/x-r-source",
   "name": "R",
   "pygments_lexer": "r",
   "version": "3.6.1"
  }
 },
 "nbformat": 4,
 "nbformat_minor": 2
}
